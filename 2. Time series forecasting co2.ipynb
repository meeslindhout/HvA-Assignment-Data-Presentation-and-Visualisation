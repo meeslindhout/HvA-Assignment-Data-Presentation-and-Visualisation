{
 "cells": [
  {
   "cell_type": "code",
   "execution_count": 1,
   "metadata": {},
   "outputs": [
    {
     "name": "stderr",
     "output_type": "stream",
     "text": [
      "Importing plotly failed. Interactive plots will not work.\n"
     ]
    }
   ],
   "source": [
    "import pandas as pd\n",
    "from prophet import Prophet\n",
    "import seaborn as sns\n",
    "import matplotlib.pyplot as plt"
   ]
  },
  {
   "cell_type": "markdown",
   "metadata": {},
   "source": [
    "# Loading data and eda"
   ]
  },
  {
   "cell_type": "markdown",
   "metadata": {},
   "source": [
    "Ritchie, H., & Roser, M. (2020). CO₂ emissions. Our World in Data. Retrieved from https://ourworldindata.org/co2-emissions"
   ]
  },
  {
   "cell_type": "code",
   "execution_count": 2,
   "metadata": {},
   "outputs": [
    {
     "data": {
      "text/html": [
       "<div>\n",
       "<style scoped>\n",
       "    .dataframe tbody tr th:only-of-type {\n",
       "        vertical-align: middle;\n",
       "    }\n",
       "\n",
       "    .dataframe tbody tr th {\n",
       "        vertical-align: top;\n",
       "    }\n",
       "\n",
       "    .dataframe thead th {\n",
       "        text-align: right;\n",
       "    }\n",
       "</style>\n",
       "<table border=\"1\" class=\"dataframe\">\n",
       "  <thead>\n",
       "    <tr style=\"text-align: right;\">\n",
       "      <th></th>\n",
       "      <th>Entity</th>\n",
       "      <th>Code</th>\n",
       "      <th>Year</th>\n",
       "      <th>CO2 emissions</th>\n",
       "    </tr>\n",
       "  </thead>\n",
       "  <tbody>\n",
       "    <tr>\n",
       "      <th>16946</th>\n",
       "      <td>Malaysia</td>\n",
       "      <td>MYS</td>\n",
       "      <td>1973</td>\n",
       "      <td>1.750513e+07</td>\n",
       "    </tr>\n",
       "    <tr>\n",
       "      <th>15846</th>\n",
       "      <td>Low-income countries</td>\n",
       "      <td>NaN</td>\n",
       "      <td>1782</td>\n",
       "      <td>0.000000e+00</td>\n",
       "    </tr>\n",
       "    <tr>\n",
       "      <th>2500</th>\n",
       "      <td>Australia</td>\n",
       "      <td>AUS</td>\n",
       "      <td>1944</td>\n",
       "      <td>4.102697e+07</td>\n",
       "    </tr>\n",
       "    <tr>\n",
       "      <th>1073</th>\n",
       "      <td>Anguilla</td>\n",
       "      <td>AIA</td>\n",
       "      <td>2000</td>\n",
       "      <td>7.694400e+04</td>\n",
       "    </tr>\n",
       "    <tr>\n",
       "      <th>28288</th>\n",
       "      <td>Ukraine</td>\n",
       "      <td>UKR</td>\n",
       "      <td>1974</td>\n",
       "      <td>5.516760e+08</td>\n",
       "    </tr>\n",
       "    <tr>\n",
       "      <th>12217</th>\n",
       "      <td>Guinea</td>\n",
       "      <td>GIN</td>\n",
       "      <td>1982</td>\n",
       "      <td>9.819520e+05</td>\n",
       "    </tr>\n",
       "    <tr>\n",
       "      <th>17303</th>\n",
       "      <td>Mauritania</td>\n",
       "      <td>MRT</td>\n",
       "      <td>1837</td>\n",
       "      <td>0.000000e+00</td>\n",
       "    </tr>\n",
       "    <tr>\n",
       "      <th>11430</th>\n",
       "      <td>Greece</td>\n",
       "      <td>GRC</td>\n",
       "      <td>1895</td>\n",
       "      <td>3.114400e+05</td>\n",
       "    </tr>\n",
       "    <tr>\n",
       "      <th>9873</th>\n",
       "      <td>European Union (27)</td>\n",
       "      <td>NaN</td>\n",
       "      <td>1967</td>\n",
       "      <td>2.819335e+09</td>\n",
       "    </tr>\n",
       "    <tr>\n",
       "      <th>15408</th>\n",
       "      <td>Lesotho</td>\n",
       "      <td>LSO</td>\n",
       "      <td>1998</td>\n",
       "      <td>1.802688e+06</td>\n",
       "    </tr>\n",
       "  </tbody>\n",
       "</table>\n",
       "</div>"
      ],
      "text/plain": [
       "                     Entity Code  Year  CO2 emissions\n",
       "16946              Malaysia  MYS  1973   1.750513e+07\n",
       "15846  Low-income countries  NaN  1782   0.000000e+00\n",
       "2500              Australia  AUS  1944   4.102697e+07\n",
       "1073               Anguilla  AIA  2000   7.694400e+04\n",
       "28288               Ukraine  UKR  1974   5.516760e+08\n",
       "12217                Guinea  GIN  1982   9.819520e+05\n",
       "17303            Mauritania  MRT  1837   0.000000e+00\n",
       "11430                Greece  GRC  1895   3.114400e+05\n",
       "9873    European Union (27)  NaN  1967   2.819335e+09\n",
       "15408               Lesotho  LSO  1998   1.802688e+06"
      ]
     },
     "execution_count": 2,
     "metadata": {},
     "output_type": "execute_result"
    }
   ],
   "source": [
    "# read the data\n",
    "emissions = pd.read_csv('data/annual-co2-emissions-per-country.csv')\n",
    "\n",
    "# rename column Annual CO₂ emissions to CO2 emissions\n",
    "emissions = emissions.rename(columns={'Annual CO₂ emissions':'CO2 emissions'})\n",
    "\n",
    "emissions.sample(10)"
   ]
  },
  {
   "cell_type": "code",
   "execution_count": 3,
   "metadata": {},
   "outputs": [
    {
     "data": {
      "text/plain": [
       "<Axes: xlabel='Year', ylabel='CO2 emissions'>"
      ]
     },
     "execution_count": 3,
     "metadata": {},
     "output_type": "execute_result"
    },
    {
     "data": {
      "image/png": "[encoded data removed]",
      "text/plain": [
       "<Figure size 640x480 with 1 Axes>"
      ]
     },
     "metadata": {},
     "output_type": "display_data"
    }
   ],
   "source": [
    "# filter the data to only include the world\n",
    "emissions = emissions[emissions['Entity']==\"World\"]\n",
    "\n",
    "# plot the data\n",
    "sns.lineplot(data=emissions, x='Year', y='CO2 emissions')"
   ]
  },
  {
   "cell_type": "code",
   "execution_count": 4,
   "metadata": {},
   "outputs": [
    {
     "data": {
      "text/html": [
       "<div>\n",
       "<style scoped>\n",
       "    .dataframe tbody tr th:only-of-type {\n",
       "        vertical-align: middle;\n",
       "    }\n",
       "\n",
       "    .dataframe tbody tr th {\n",
       "        vertical-align: top;\n",
       "    }\n",
       "\n",
       "    .dataframe thead th {\n",
       "        text-align: right;\n",
       "    }\n",
       "</style>\n",
       "<table border=\"1\" class=\"dataframe\">\n",
       "  <thead>\n",
       "    <tr style=\"text-align: right;\">\n",
       "      <th></th>\n",
       "      <th>Entity</th>\n",
       "      <th>Code</th>\n",
       "      <th>Year</th>\n",
       "      <th>CO2 emissions</th>\n",
       "    </tr>\n",
       "  </thead>\n",
       "  <tbody>\n",
       "    <tr>\n",
       "      <th>29769</th>\n",
       "      <td>World</td>\n",
       "      <td>OWID_WRL</td>\n",
       "      <td>1750</td>\n",
       "      <td>9305937.0</td>\n",
       "    </tr>\n",
       "    <tr>\n",
       "      <th>29770</th>\n",
       "      <td>World</td>\n",
       "      <td>OWID_WRL</td>\n",
       "      <td>1751</td>\n",
       "      <td>9407229.0</td>\n",
       "    </tr>\n",
       "    <tr>\n",
       "      <th>29771</th>\n",
       "      <td>World</td>\n",
       "      <td>OWID_WRL</td>\n",
       "      <td>1752</td>\n",
       "      <td>9505168.0</td>\n",
       "    </tr>\n",
       "    <tr>\n",
       "      <th>29772</th>\n",
       "      <td>World</td>\n",
       "      <td>OWID_WRL</td>\n",
       "      <td>1753</td>\n",
       "      <td>9610490.0</td>\n",
       "    </tr>\n",
       "    <tr>\n",
       "      <th>29773</th>\n",
       "      <td>World</td>\n",
       "      <td>OWID_WRL</td>\n",
       "      <td>1754</td>\n",
       "      <td>9733580.0</td>\n",
       "    </tr>\n",
       "  </tbody>\n",
       "</table>\n",
       "</div>"
      ],
      "text/plain": [
       "      Entity      Code  Year  CO2 emissions\n",
       "29769  World  OWID_WRL  1750      9305937.0\n",
       "29770  World  OWID_WRL  1751      9407229.0\n",
       "29771  World  OWID_WRL  1752      9505168.0\n",
       "29772  World  OWID_WRL  1753      9610490.0\n",
       "29773  World  OWID_WRL  1754      9733580.0"
      ]
     },
     "metadata": {},
     "output_type": "display_data"
    },
    {
     "data": {
      "text/html": [
       "<div>\n",
       "<style scoped>\n",
       "    .dataframe tbody tr th:only-of-type {\n",
       "        vertical-align: middle;\n",
       "    }\n",
       "\n",
       "    .dataframe tbody tr th {\n",
       "        vertical-align: top;\n",
       "    }\n",
       "\n",
       "    .dataframe thead th {\n",
       "        text-align: right;\n",
       "    }\n",
       "</style>\n",
       "<table border=\"1\" class=\"dataframe\">\n",
       "  <thead>\n",
       "    <tr style=\"text-align: right;\">\n",
       "      <th></th>\n",
       "      <th>Entity</th>\n",
       "      <th>Code</th>\n",
       "      <th>Year</th>\n",
       "      <th>CO2 emissions</th>\n",
       "    </tr>\n",
       "  </thead>\n",
       "  <tbody>\n",
       "    <tr>\n",
       "      <th>30037</th>\n",
       "      <td>World</td>\n",
       "      <td>OWID_WRL</td>\n",
       "      <td>2018</td>\n",
       "      <td>3.676694e+10</td>\n",
       "    </tr>\n",
       "    <tr>\n",
       "      <th>30038</th>\n",
       "      <td>World</td>\n",
       "      <td>OWID_WRL</td>\n",
       "      <td>2019</td>\n",
       "      <td>3.704010e+10</td>\n",
       "    </tr>\n",
       "    <tr>\n",
       "      <th>30039</th>\n",
       "      <td>World</td>\n",
       "      <td>OWID_WRL</td>\n",
       "      <td>2020</td>\n",
       "      <td>3.500774e+10</td>\n",
       "    </tr>\n",
       "    <tr>\n",
       "      <th>30040</th>\n",
       "      <td>World</td>\n",
       "      <td>OWID_WRL</td>\n",
       "      <td>2021</td>\n",
       "      <td>3.681654e+10</td>\n",
       "    </tr>\n",
       "    <tr>\n",
       "      <th>30041</th>\n",
       "      <td>World</td>\n",
       "      <td>OWID_WRL</td>\n",
       "      <td>2022</td>\n",
       "      <td>3.714979e+10</td>\n",
       "    </tr>\n",
       "  </tbody>\n",
       "</table>\n",
       "</div>"
      ],
      "text/plain": [
       "      Entity      Code  Year  CO2 emissions\n",
       "30037  World  OWID_WRL  2018   3.676694e+10\n",
       "30038  World  OWID_WRL  2019   3.704010e+10\n",
       "30039  World  OWID_WRL  2020   3.500774e+10\n",
       "30040  World  OWID_WRL  2021   3.681654e+10\n",
       "30041  World  OWID_WRL  2022   3.714979e+10"
      ]
     },
     "metadata": {},
     "output_type": "display_data"
    }
   ],
   "source": [
    "# check data structure by looking at the first and last 5 rows\n",
    "display(emissions.head())\n",
    "display(emissions.tail())\n"
   ]
  },
  {
   "cell_type": "markdown",
   "metadata": {},
   "source": [
    "Prepare data for prophet prediction model"
   ]
  },
  {
   "cell_type": "code",
   "execution_count": 5,
   "metadata": {},
   "outputs": [
    {
     "data": {
      "text/plain": [
       "(273, 2)"
      ]
     },
     "execution_count": 5,
     "metadata": {},
     "output_type": "execute_result"
    }
   ],
   "source": [
    "# create a new dataframe with only the year and the CO2 emissions to use for the Prophet model\n",
    "X = emissions.loc[:, ['Year','CO2 emissions']]\n",
    "X.shape"
   ]
  },
  {
   "cell_type": "code",
   "execution_count": 6,
   "metadata": {},
   "outputs": [],
   "source": [
    "# rename columns so that the prophet model can be used\n",
    "X.columns = ['ds', 'y']\n",
    "\n",
    "# set year column as datetime\n",
    "X['ds'] = pd.to_datetime(X['ds'], format='%Y')"
   ]
  },
  {
   "cell_type": "markdown",
   "metadata": {},
   "source": [
    "Create prohet model and fit it to the data"
   ]
  },
  {
   "cell_type": "code",
   "execution_count": 7,
   "metadata": {},
   "outputs": [
    {
     "name": "stderr",
     "output_type": "stream",
     "text": [
      "12:05:55 - cmdstanpy - INFO - Chain [1] start processing\n"
     ]
    },
    {
     "name": "stderr",
     "output_type": "stream",
     "text": [
      "12:05:56 - cmdstanpy - INFO - Chain [1] done processing\n"
     ]
    },
    {
     "data": {
      "text/plain": [
       "<prophet.forecaster.Prophet at 0x7f52742c1c70>"
      ]
     },
     "execution_count": 7,
     "metadata": {},
     "output_type": "execute_result"
    }
   ],
   "source": [
    "# initialize the model\n",
    "model = Prophet()\n",
    "\n",
    "# fit the model on the last 50 years\n",
    "model.fit(X.iloc[-50:])"
   ]
  },
  {
   "cell_type": "markdown",
   "metadata": {},
   "source": [
    "# Prophet model evaluation"
   ]
  },
  {
   "cell_type": "code",
   "execution_count": 8,
   "metadata": {},
   "outputs": [
    {
     "name": "stderr",
     "output_type": "stream",
     "text": [
      "/home/mees/miniconda3/envs/tableau_server/lib/python3.9/site-packages/prophet/forecaster.py:1854: FutureWarning: 'Y' is deprecated and will be removed in a future version, please use 'YE' instead.\n",
      "  dates = pd.date_range(\n"
     ]
    },
    {
     "data": {
      "text/html": [
       "<div>\n",
       "<style scoped>\n",
       "    .dataframe tbody tr th:only-of-type {\n",
       "        vertical-align: middle;\n",
       "    }\n",
       "\n",
       "    .dataframe tbody tr th {\n",
       "        vertical-align: top;\n",
       "    }\n",
       "\n",
       "    .dataframe thead th {\n",
       "        text-align: right;\n",
       "    }\n",
       "</style>\n",
       "<table border=\"1\" class=\"dataframe\">\n",
       "  <thead>\n",
       "    <tr style=\"text-align: right;\">\n",
       "      <th></th>\n",
       "      <th>ds</th>\n",
       "    </tr>\n",
       "  </thead>\n",
       "  <tbody>\n",
       "    <tr>\n",
       "      <th>24</th>\n",
       "      <td>2046-12-31</td>\n",
       "    </tr>\n",
       "    <tr>\n",
       "      <th>25</th>\n",
       "      <td>2047-12-31</td>\n",
       "    </tr>\n",
       "    <tr>\n",
       "      <th>26</th>\n",
       "      <td>2048-12-31</td>\n",
       "    </tr>\n",
       "    <tr>\n",
       "      <th>27</th>\n",
       "      <td>2049-12-31</td>\n",
       "    </tr>\n",
       "    <tr>\n",
       "      <th>28</th>\n",
       "      <td>2050-12-31</td>\n",
       "    </tr>\n",
       "  </tbody>\n",
       "</table>\n",
       "</div>"
      ],
      "text/plain": [
       "           ds\n",
       "24 2046-12-31\n",
       "25 2047-12-31\n",
       "26 2048-12-31\n",
       "27 2049-12-31\n",
       "28 2050-12-31"
      ]
     },
     "execution_count": 8,
     "metadata": {},
     "output_type": "execute_result"
    }
   ],
   "source": [
    "future = model.make_future_dataframe(periods=29, # predict the next 29 years\n",
    "                                    freq='Y',\n",
    "                                    include_history=False\n",
    "                                    )\n",
    "# print the last dates that will be predicted.\n",
    "future.tail()"
   ]
  },
  {
   "cell_type": "code",
   "execution_count": 9,
   "metadata": {},
   "outputs": [
    {
     "data": {
      "text/plain": [
       "<bound method NDFrame.tail of            ds          yhat    yhat_lower    yhat_upper\n",
       "0  2022-12-31  3.654067e+10  3.587101e+10  3.722672e+10\n",
       "1  2023-12-31  3.627974e+10  3.562333e+10  3.693879e+10\n",
       "2  2024-12-31  3.780971e+10  3.711311e+10  3.845857e+10\n",
       "3  2025-12-31  3.776415e+10  3.706171e+10  3.848929e+10\n",
       "4  2026-12-31  3.761066e+10  3.690068e+10  3.836979e+10\n",
       "5  2027-12-31  3.734973e+10  3.653052e+10  3.814654e+10\n",
       "6  2028-12-31  3.887971e+10  3.803033e+10  3.973114e+10\n",
       "7  2029-12-31  3.883414e+10  3.795862e+10  3.975358e+10\n",
       "8  2030-12-31  3.868065e+10  3.768318e+10  3.962255e+10\n",
       "9  2031-12-31  3.841972e+10  3.742888e+10  3.948370e+10\n",
       "10 2032-12-31  3.994970e+10  3.878356e+10  4.114130e+10\n",
       "11 2033-12-31  3.990414e+10  3.864926e+10  4.111506e+10\n",
       "12 2034-12-31  3.975065e+10  3.844288e+10  4.113403e+10\n",
       "13 2035-12-31  3.948972e+10  3.800131e+10  4.098740e+10\n",
       "14 2036-12-31  4.101969e+10  3.942471e+10  4.266284e+10\n",
       "15 2037-12-31  4.097413e+10  3.922257e+10  4.280439e+10\n",
       "16 2038-12-31  4.082064e+10  3.905729e+10  4.286479e+10\n",
       "17 2039-12-31  4.055971e+10  3.865966e+10  4.267982e+10\n",
       "18 2040-12-31  4.208969e+10  3.993077e+10  4.438189e+10\n",
       "19 2041-12-31  4.204413e+10  3.966448e+10  4.457794e+10\n",
       "20 2042-12-31  4.189064e+10  3.942417e+10  4.456718e+10\n",
       "21 2043-12-31  4.162971e+10  3.898111e+10  4.443301e+10\n",
       "22 2044-12-31  4.315968e+10  4.021027e+10  4.614737e+10\n",
       "23 2045-12-31  4.311412e+10  4.016478e+10  4.625589e+10\n",
       "24 2046-12-31  4.296063e+10  3.973527e+10  4.639063e+10\n",
       "25 2047-12-31  4.269970e+10  3.918210e+10  4.620093e+10\n",
       "26 2048-12-31  4.422968e+10  4.056177e+10  4.797954e+10\n",
       "27 2049-12-31  4.418411e+10  4.030840e+10  4.812131e+10\n",
       "28 2050-12-31  4.403062e+10  4.004625e+10  4.809665e+10>"
      ]
     },
     "execution_count": 9,
     "metadata": {},
     "output_type": "execute_result"
    }
   ],
   "source": [
    "# extract the predictions and store them in the forecast dataframe\n",
    "forecast = model.predict(future)\n",
    "forecast[['ds', 'yhat', 'yhat_lower', 'yhat_upper']].tail"
   ]
  },
  {
   "cell_type": "code",
   "execution_count": 10,
   "metadata": {},
   "outputs": [
    {
     "name": "stderr",
     "output_type": "stream",
     "text": [
      "/home/mees/miniconda3/envs/tableau_server/lib/python3.9/site-packages/prophet/plot.py:72: FutureWarning: The behavior of DatetimeProperties.to_pydatetime is deprecated, in a future version this will return a Series containing python datetime objects instead of an ndarray. To retain the old behavior, call `np.array` on the result\n",
      "  fcst_t = fcst['ds'].dt.to_pydatetime()\n",
      "/home/mees/miniconda3/envs/tableau_server/lib/python3.9/site-packages/prophet/plot.py:73: FutureWarning: The behavior of DatetimeProperties.to_pydatetime is deprecated, in a future version this will return a Series containing python datetime objects instead of an ndarray. To retain the old behavior, call `np.array` on the result\n",
      "  ax.plot(m.history['ds'].dt.to_pydatetime(), m.history['y'], 'k.',\n"
     ]
    },
    {
     "data": {
      "image/png": "[encoded data removed]",
      "text/plain": [
       "<Figure size 1000x600 with 1 Axes>"
      ]
     },
     "metadata": {},
     "output_type": "display_data"
    }
   ],
   "source": [
    "# evaluate the model by plotting the forecast\n",
    "fig = model.plot(forecast)"
   ]
  },
  {
   "cell_type": "code",
   "execution_count": 11,
   "metadata": {},
   "outputs": [
    {
     "name": "stderr",
     "output_type": "stream",
     "text": [
      "/home/mees/miniconda3/envs/tableau_server/lib/python3.9/site-packages/prophet/plot.py:228: FutureWarning: The behavior of DatetimeProperties.to_pydatetime is deprecated, in a future version this will return a Series containing python datetime objects instead of an ndarray. To retain the old behavior, call `np.array` on the result\n",
      "  fcst_t = fcst['ds'].dt.to_pydatetime()\n",
      "/home/mees/miniconda3/envs/tableau_server/lib/python3.9/site-packages/prophet/plot.py:351: FutureWarning: The behavior of DatetimeProperties.to_pydatetime is deprecated, in a future version this will return a Series containing python datetime objects instead of an ndarray. To retain the old behavior, call `np.array` on the result\n",
      "  df_y['ds'].dt.to_pydatetime(), seas[name], ls='-', c='#0072B2')\n",
      "/home/mees/miniconda3/envs/tableau_server/lib/python3.9/site-packages/prophet/plot.py:354: FutureWarning: The behavior of DatetimeProperties.to_pydatetime is deprecated, in a future version this will return a Series containing python datetime objects instead of an ndarray. To retain the old behavior, call `np.array` on the result\n",
      "  df_y['ds'].dt.to_pydatetime(), seas[name + '_lower'],\n"
     ]
    },
    {
     "data": {
      "image/png": "[encoded data removed]",
      "text/plain": [
       "<Figure size 900x600 with 2 Axes>"
      ]
     },
     "metadata": {},
     "output_type": "display_data"
    }
   ],
   "source": [
    "fig_components = model.plot_components(forecast)"
   ]
  },
  {
   "cell_type": "code",
   "execution_count": 12,
   "metadata": {},
   "outputs": [
    {
     "data": {
      "text/html": [
       "<div>\n",
       "<style scoped>\n",
       "    .dataframe tbody tr th:only-of-type {\n",
       "        vertical-align: middle;\n",
       "    }\n",
       "\n",
       "    .dataframe tbody tr th {\n",
       "        vertical-align: top;\n",
       "    }\n",
       "\n",
       "    .dataframe thead th {\n",
       "        text-align: right;\n",
       "    }\n",
       "</style>\n",
       "<table border=\"1\" class=\"dataframe\">\n",
       "  <thead>\n",
       "    <tr style=\"text-align: right;\">\n",
       "      <th></th>\n",
       "      <th>CO2 emissions</th>\n",
       "      <th>CO2 emissions lower</th>\n",
       "      <th>CO2 emissions upper</th>\n",
       "    </tr>\n",
       "    <tr>\n",
       "      <th>Year</th>\n",
       "      <th></th>\n",
       "      <th></th>\n",
       "      <th></th>\n",
       "    </tr>\n",
       "  </thead>\n",
       "  <tbody>\n",
       "    <tr>\n",
       "      <th>2023</th>\n",
       "      <td>3.627974e+10</td>\n",
       "      <td>3.562333e+10</td>\n",
       "      <td>3.693879e+10</td>\n",
       "    </tr>\n",
       "    <tr>\n",
       "      <th>2024</th>\n",
       "      <td>3.780971e+10</td>\n",
       "      <td>3.711311e+10</td>\n",
       "      <td>3.845857e+10</td>\n",
       "    </tr>\n",
       "    <tr>\n",
       "      <th>2025</th>\n",
       "      <td>3.776415e+10</td>\n",
       "      <td>3.706171e+10</td>\n",
       "      <td>3.848929e+10</td>\n",
       "    </tr>\n",
       "    <tr>\n",
       "      <th>2026</th>\n",
       "      <td>3.761066e+10</td>\n",
       "      <td>3.690068e+10</td>\n",
       "      <td>3.836979e+10</td>\n",
       "    </tr>\n",
       "    <tr>\n",
       "      <th>2027</th>\n",
       "      <td>3.734973e+10</td>\n",
       "      <td>3.653052e+10</td>\n",
       "      <td>3.814654e+10</td>\n",
       "    </tr>\n",
       "    <tr>\n",
       "      <th>2028</th>\n",
       "      <td>3.887971e+10</td>\n",
       "      <td>3.803033e+10</td>\n",
       "      <td>3.973114e+10</td>\n",
       "    </tr>\n",
       "    <tr>\n",
       "      <th>2029</th>\n",
       "      <td>3.883414e+10</td>\n",
       "      <td>3.795862e+10</td>\n",
       "      <td>3.975358e+10</td>\n",
       "    </tr>\n",
       "    <tr>\n",
       "      <th>2030</th>\n",
       "      <td>3.868065e+10</td>\n",
       "      <td>3.768318e+10</td>\n",
       "      <td>3.962255e+10</td>\n",
       "    </tr>\n",
       "    <tr>\n",
       "      <th>2031</th>\n",
       "      <td>3.841972e+10</td>\n",
       "      <td>3.742888e+10</td>\n",
       "      <td>3.948370e+10</td>\n",
       "    </tr>\n",
       "    <tr>\n",
       "      <th>2032</th>\n",
       "      <td>3.994970e+10</td>\n",
       "      <td>3.878356e+10</td>\n",
       "      <td>4.114130e+10</td>\n",
       "    </tr>\n",
       "  </tbody>\n",
       "</table>\n",
       "</div>"
      ],
      "text/plain": [
       "      CO2 emissions  CO2 emissions lower  CO2 emissions upper\n",
       "Year                                                         \n",
       "2023   3.627974e+10         3.562333e+10         3.693879e+10\n",
       "2024   3.780971e+10         3.711311e+10         3.845857e+10\n",
       "2025   3.776415e+10         3.706171e+10         3.848929e+10\n",
       "2026   3.761066e+10         3.690068e+10         3.836979e+10\n",
       "2027   3.734973e+10         3.653052e+10         3.814654e+10\n",
       "2028   3.887971e+10         3.803033e+10         3.973114e+10\n",
       "2029   3.883414e+10         3.795862e+10         3.975358e+10\n",
       "2030   3.868065e+10         3.768318e+10         3.962255e+10\n",
       "2031   3.841972e+10         3.742888e+10         3.948370e+10\n",
       "2032   3.994970e+10         3.878356e+10         4.114130e+10"
      ]
     },
     "metadata": {},
     "output_type": "display_data"
    }
   ],
   "source": [
    "# get year \n",
    "forecast['Year'] = forecast['ds'].dt.year\n",
    "forecast.set_index('Year', inplace=True)\n",
    "emissions_forecasted = forecast[['yhat', 'yhat_lower', 'yhat_upper']]\n",
    "# rename columns to CO2 emissions, CO2 emissions lower and CO2 emissions upper\n",
    "emissions_forecasted.columns = ['CO2 emissions', 'CO2 emissions lower', 'CO2 emissions upper']\n",
    "\n",
    "# remove first row 2022 as it is not a full year\n",
    "emissions_forecasted = emissions_forecasted.iloc[1:]\n",
    "\n",
    "display(emissions_forecasted[0:10])"
   ]
  },
  {
   "cell_type": "code",
   "execution_count": 13,
   "metadata": {},
   "outputs": [
    {
     "data": {
      "text/html": [
       "<div>\n",
       "<style scoped>\n",
       "    .dataframe tbody tr th:only-of-type {\n",
       "        vertical-align: middle;\n",
       "    }\n",
       "\n",
       "    .dataframe tbody tr th {\n",
       "        vertical-align: top;\n",
       "    }\n",
       "\n",
       "    .dataframe thead th {\n",
       "        text-align: right;\n",
       "    }\n",
       "</style>\n",
       "<table border=\"1\" class=\"dataframe\">\n",
       "  <thead>\n",
       "    <tr style=\"text-align: right;\">\n",
       "      <th></th>\n",
       "      <th>CO2 emissions</th>\n",
       "    </tr>\n",
       "    <tr>\n",
       "      <th>Year</th>\n",
       "      <th></th>\n",
       "    </tr>\n",
       "  </thead>\n",
       "  <tbody>\n",
       "    <tr>\n",
       "      <th>2018</th>\n",
       "      <td>3.676694e+10</td>\n",
       "    </tr>\n",
       "    <tr>\n",
       "      <th>2019</th>\n",
       "      <td>3.704010e+10</td>\n",
       "    </tr>\n",
       "    <tr>\n",
       "      <th>2020</th>\n",
       "      <td>3.500774e+10</td>\n",
       "    </tr>\n",
       "    <tr>\n",
       "      <th>2021</th>\n",
       "      <td>3.681654e+10</td>\n",
       "    </tr>\n",
       "    <tr>\n",
       "      <th>2022</th>\n",
       "      <td>3.714979e+10</td>\n",
       "    </tr>\n",
       "  </tbody>\n",
       "</table>\n",
       "</div>"
      ],
      "text/plain": [
       "      CO2 emissions\n",
       "Year               \n",
       "2018   3.676694e+10\n",
       "2019   3.704010e+10\n",
       "2020   3.500774e+10\n",
       "2021   3.681654e+10\n",
       "2022   3.714979e+10"
      ]
     },
     "execution_count": 13,
     "metadata": {},
     "output_type": "execute_result"
    }
   ],
   "source": [
    "emissions.set_index('Year', inplace=True)\n",
    "emissions = emissions[['CO2 emissions']]\n",
    "emissions.tail()"
   ]
  },
  {
   "cell_type": "code",
   "execution_count": 14,
   "metadata": {},
   "outputs": [
    {
     "data": {
      "text/html": [
       "<div>\n",
       "<style scoped>\n",
       "    .dataframe tbody tr th:only-of-type {\n",
       "        vertical-align: middle;\n",
       "    }\n",
       "\n",
       "    .dataframe tbody tr th {\n",
       "        vertical-align: top;\n",
       "    }\n",
       "\n",
       "    .dataframe thead th {\n",
       "        text-align: right;\n",
       "    }\n",
       "</style>\n",
       "<table border=\"1\" class=\"dataframe\">\n",
       "  <thead>\n",
       "    <tr style=\"text-align: right;\">\n",
       "      <th></th>\n",
       "      <th>Source</th>\n",
       "      <th>Year</th>\n",
       "      <th>CO2 emissions</th>\n",
       "      <th>CO2 emissions lower</th>\n",
       "      <th>CO2 emissions upper</th>\n",
       "    </tr>\n",
       "  </thead>\n",
       "  <tbody>\n",
       "    <tr>\n",
       "      <th>0</th>\n",
       "      <td>Historical</td>\n",
       "      <td>1750</td>\n",
       "      <td>9.305937e+06</td>\n",
       "      <td>NaN</td>\n",
       "      <td>NaN</td>\n",
       "    </tr>\n",
       "    <tr>\n",
       "      <th>1</th>\n",
       "      <td>Historical</td>\n",
       "      <td>1751</td>\n",
       "      <td>9.407229e+06</td>\n",
       "      <td>NaN</td>\n",
       "      <td>NaN</td>\n",
       "    </tr>\n",
       "    <tr>\n",
       "      <th>2</th>\n",
       "      <td>Historical</td>\n",
       "      <td>1752</td>\n",
       "      <td>9.505168e+06</td>\n",
       "      <td>NaN</td>\n",
       "      <td>NaN</td>\n",
       "    </tr>\n",
       "    <tr>\n",
       "      <th>3</th>\n",
       "      <td>Historical</td>\n",
       "      <td>1753</td>\n",
       "      <td>9.610490e+06</td>\n",
       "      <td>NaN</td>\n",
       "      <td>NaN</td>\n",
       "    </tr>\n",
       "    <tr>\n",
       "      <th>4</th>\n",
       "      <td>Historical</td>\n",
       "      <td>1754</td>\n",
       "      <td>9.733580e+06</td>\n",
       "      <td>NaN</td>\n",
       "      <td>NaN</td>\n",
       "    </tr>\n",
       "    <tr>\n",
       "      <th>...</th>\n",
       "      <td>...</td>\n",
       "      <td>...</td>\n",
       "      <td>...</td>\n",
       "      <td>...</td>\n",
       "      <td>...</td>\n",
       "    </tr>\n",
       "    <tr>\n",
       "      <th>296</th>\n",
       "      <td>Predicted</td>\n",
       "      <td>2046</td>\n",
       "      <td>4.296063e+10</td>\n",
       "      <td>3.973527e+10</td>\n",
       "      <td>4.639063e+10</td>\n",
       "    </tr>\n",
       "    <tr>\n",
       "      <th>297</th>\n",
       "      <td>Predicted</td>\n",
       "      <td>2047</td>\n",
       "      <td>4.269970e+10</td>\n",
       "      <td>3.918210e+10</td>\n",
       "      <td>4.620093e+10</td>\n",
       "    </tr>\n",
       "    <tr>\n",
       "      <th>298</th>\n",
       "      <td>Predicted</td>\n",
       "      <td>2048</td>\n",
       "      <td>4.422968e+10</td>\n",
       "      <td>4.056177e+10</td>\n",
       "      <td>4.797954e+10</td>\n",
       "    </tr>\n",
       "    <tr>\n",
       "      <th>299</th>\n",
       "      <td>Predicted</td>\n",
       "      <td>2049</td>\n",
       "      <td>4.418411e+10</td>\n",
       "      <td>4.030840e+10</td>\n",
       "      <td>4.812131e+10</td>\n",
       "    </tr>\n",
       "    <tr>\n",
       "      <th>300</th>\n",
       "      <td>Predicted</td>\n",
       "      <td>2050</td>\n",
       "      <td>4.403062e+10</td>\n",
       "      <td>4.004625e+10</td>\n",
       "      <td>4.809665e+10</td>\n",
       "    </tr>\n",
       "  </tbody>\n",
       "</table>\n",
       "<p>301 rows × 5 columns</p>\n",
       "</div>"
      ],
      "text/plain": [
       "         Source  Year  CO2 emissions  CO2 emissions lower  CO2 emissions upper\n",
       "0    Historical  1750   9.305937e+06                  NaN                  NaN\n",
       "1    Historical  1751   9.407229e+06                  NaN                  NaN\n",
       "2    Historical  1752   9.505168e+06                  NaN                  NaN\n",
       "3    Historical  1753   9.610490e+06                  NaN                  NaN\n",
       "4    Historical  1754   9.733580e+06                  NaN                  NaN\n",
       "..          ...   ...            ...                  ...                  ...\n",
       "296   Predicted  2046   4.296063e+10         3.973527e+10         4.639063e+10\n",
       "297   Predicted  2047   4.269970e+10         3.918210e+10         4.620093e+10\n",
       "298   Predicted  2048   4.422968e+10         4.056177e+10         4.797954e+10\n",
       "299   Predicted  2049   4.418411e+10         4.030840e+10         4.812131e+10\n",
       "300   Predicted  2050   4.403062e+10         4.004625e+10         4.809665e+10\n",
       "\n",
       "[301 rows x 5 columns]"
      ]
     },
     "execution_count": 14,
     "metadata": {},
     "output_type": "execute_result"
    }
   ],
   "source": [
    "combined = pd.concat([emissions, emissions_forecasted], axis=0, keys=['Historical', 'Predicted'])\n",
    "combined.index.names = ['Source', 'Year']\n",
    "combined.reset_index(inplace=True)\n",
    "\n",
    "combined.to_csv('CO2 prediction.csv', index=False)\n",
    "combined"
   ]
  },
  {
   "cell_type": "code",
   "execution_count": 15,
   "metadata": {},
   "outputs": [
    {
     "data": {
      "text/html": [
       "<div>\n",
       "<style scoped>\n",
       "    .dataframe tbody tr th:only-of-type {\n",
       "        vertical-align: middle;\n",
       "    }\n",
       "\n",
       "    .dataframe tbody tr th {\n",
       "        vertical-align: top;\n",
       "    }\n",
       "\n",
       "    .dataframe thead th {\n",
       "        text-align: right;\n",
       "    }\n",
       "</style>\n",
       "<table border=\"1\" class=\"dataframe\">\n",
       "  <thead>\n",
       "    <tr style=\"text-align: right;\">\n",
       "      <th></th>\n",
       "      <th>Source</th>\n",
       "      <th>Year</th>\n",
       "      <th>Line</th>\n",
       "      <th>CO2 emissions value</th>\n",
       "    </tr>\n",
       "  </thead>\n",
       "  <tbody>\n",
       "    <tr>\n",
       "      <th>0</th>\n",
       "      <td>Historical</td>\n",
       "      <td>1750</td>\n",
       "      <td>CO2 emissions</td>\n",
       "      <td>9.305937e+06</td>\n",
       "    </tr>\n",
       "    <tr>\n",
       "      <th>1</th>\n",
       "      <td>Historical</td>\n",
       "      <td>1751</td>\n",
       "      <td>CO2 emissions</td>\n",
       "      <td>9.407229e+06</td>\n",
       "    </tr>\n",
       "    <tr>\n",
       "      <th>2</th>\n",
       "      <td>Historical</td>\n",
       "      <td>1752</td>\n",
       "      <td>CO2 emissions</td>\n",
       "      <td>9.505168e+06</td>\n",
       "    </tr>\n",
       "    <tr>\n",
       "      <th>3</th>\n",
       "      <td>Historical</td>\n",
       "      <td>1753</td>\n",
       "      <td>CO2 emissions</td>\n",
       "      <td>9.610490e+06</td>\n",
       "    </tr>\n",
       "    <tr>\n",
       "      <th>4</th>\n",
       "      <td>Historical</td>\n",
       "      <td>1754</td>\n",
       "      <td>CO2 emissions</td>\n",
       "      <td>9.733580e+06</td>\n",
       "    </tr>\n",
       "    <tr>\n",
       "      <th>...</th>\n",
       "      <td>...</td>\n",
       "      <td>...</td>\n",
       "      <td>...</td>\n",
       "      <td>...</td>\n",
       "    </tr>\n",
       "    <tr>\n",
       "      <th>898</th>\n",
       "      <td>Predicted</td>\n",
       "      <td>2046</td>\n",
       "      <td>CO2 emissions upper</td>\n",
       "      <td>4.639063e+10</td>\n",
       "    </tr>\n",
       "    <tr>\n",
       "      <th>899</th>\n",
       "      <td>Predicted</td>\n",
       "      <td>2047</td>\n",
       "      <td>CO2 emissions upper</td>\n",
       "      <td>4.620093e+10</td>\n",
       "    </tr>\n",
       "    <tr>\n",
       "      <th>900</th>\n",
       "      <td>Predicted</td>\n",
       "      <td>2048</td>\n",
       "      <td>CO2 emissions upper</td>\n",
       "      <td>4.797954e+10</td>\n",
       "    </tr>\n",
       "    <tr>\n",
       "      <th>901</th>\n",
       "      <td>Predicted</td>\n",
       "      <td>2049</td>\n",
       "      <td>CO2 emissions upper</td>\n",
       "      <td>4.812131e+10</td>\n",
       "    </tr>\n",
       "    <tr>\n",
       "      <th>902</th>\n",
       "      <td>Predicted</td>\n",
       "      <td>2050</td>\n",
       "      <td>CO2 emissions upper</td>\n",
       "      <td>4.809665e+10</td>\n",
       "    </tr>\n",
       "  </tbody>\n",
       "</table>\n",
       "<p>903 rows × 4 columns</p>\n",
       "</div>"
      ],
      "text/plain": [
       "         Source  Year                 Line  CO2 emissions value\n",
       "0    Historical  1750        CO2 emissions         9.305937e+06\n",
       "1    Historical  1751        CO2 emissions         9.407229e+06\n",
       "2    Historical  1752        CO2 emissions         9.505168e+06\n",
       "3    Historical  1753        CO2 emissions         9.610490e+06\n",
       "4    Historical  1754        CO2 emissions         9.733580e+06\n",
       "..          ...   ...                  ...                  ...\n",
       "898   Predicted  2046  CO2 emissions upper         4.639063e+10\n",
       "899   Predicted  2047  CO2 emissions upper         4.620093e+10\n",
       "900   Predicted  2048  CO2 emissions upper         4.797954e+10\n",
       "901   Predicted  2049  CO2 emissions upper         4.812131e+10\n",
       "902   Predicted  2050  CO2 emissions upper         4.809665e+10\n",
       "\n",
       "[903 rows x 4 columns]"
      ]
     },
     "execution_count": 15,
     "metadata": {},
     "output_type": "execute_result"
    }
   ],
   "source": [
    "# melt CO2 emissions, CO2 emissions lower and CO2 emissions upper into one column \n",
    "# so that it can be used for visualization in Tableau\n",
    "combined_melted = pd.melt(combined, id_vars=['Source', 'Year'], var_name='Line', value_name='CO2 emissions value')\n",
    "combined_melted.to_csv('data output/CO2 prediction_melted.csv', index=False)\n",
    "combined_melted\n"
   ]
  }
 ],
 "metadata": {
  "kernelspec": {
   "display_name": "tableau_server",
   "language": "python",
   "name": "python3"
  },
  "language_info": {
   "codemirror_mode": {
    "name": "ipython",
    "version": 3
   },
   "file_extension": ".py",
   "mimetype": "text/x-python",
   "name": "python",
   "nbconvert_exporter": "python",
   "pygments_lexer": "ipython3",
   "version": "3.9.18"
  }
 },
 "nbformat": 4,
 "nbformat_minor": 2
}
